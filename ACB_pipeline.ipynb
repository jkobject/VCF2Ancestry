{
 "cells": [
  {
   "cell_type": "markdown",
   "metadata": {},
   "source": [
    "## Trials here"
   ]
  },
  {
   "cell_type": "code",
   "execution_count": 9,
   "metadata": {},
   "outputs": [
    {
     "name": "stdout",
     "output_type": "stream",
     "text": [
      "The autoreload extension is already loaded. To reload it, use:\n",
      "  %reload_ext autoreload\n"
     ]
    }
   ],
   "source": [
    "%load_ext autoreload\n",
    "%autoreload 2\n",
    "import vcf\n",
    "import population\n",
    "import pandas as pd\n",
    "import numpy as np"
   ]
  },
  {
   "cell_type": "code",
   "execution_count": 68,
   "metadata": {},
   "outputs": [],
   "source": [
    "pop = population.Population()"
   ]
  },
  {
   "cell_type": "code",
   "execution_count": 11,
   "metadata": {},
   "outputs": [
    {
     "data": {
      "text/plain": [
       "0"
      ]
     },
     "execution_count": 11,
     "metadata": {},
     "output_type": "execute_result"
    }
   ],
   "source": [
    "len(pop)"
   ]
  },
  {
   "cell_type": "code",
   "execution_count": 51,
   "metadata": {},
   "outputs": [
    {
     "name": "stderr",
     "output_type": "stream",
     "text": [
      "[autoreload of src failed: Traceback (most recent call last):\n",
      "  File \"/Users/jeremie/anaconda2/envs/tensorflow1/lib/python2.7/site-packages/IPython/extensions/autoreload.py\", line 247, in check\n",
      "    superreload(m, reload, self.old_objects)\n",
      "  File \"src.py\", line 198\n",
      "    elif self.rec[record.CHROM][]\n",
      "       ^\n",
      "IndentationError: expected an indented block\n",
      "]\n"
     ]
    }
   ],
   "source": [
    "pop.load_dataset()"
   ]
  },
  {
   "cell_type": "code",
   "execution_count": 52,
   "metadata": {},
   "outputs": [
    {
     "data": {
      "text/plain": [
       "173071"
      ]
     },
     "execution_count": 52,
     "metadata": {},
     "output_type": "execute_result"
    }
   ],
   "source": [
    "pop.filter_variants(name=\"data/data_miniproj.vcf.bgz\", out=\"out\", minmissing=30000, maxr2=0.01, callrate=0.8, maxallelefreq=0.01)"
   ]
  },
  {
   "cell_type": "code",
   "execution_count": 69,
   "metadata": {},
   "outputs": [],
   "source": [
    "pop.extract_unlabeled()"
   ]
  },
  {
   "cell_type": "code",
   "execution_count": 70,
   "metadata": {},
   "outputs": [
    {
     "name": "stdout",
     "output_type": "stream",
     "text": [
      "having 84 chromosomes\n",
      "meta :\n",
      "OrderedDict([('fileformat', 'VCFv4.2'), ('hailversion', ['devel-76c42fe'])])\n",
      "genomesize : \n",
      "3101804739\n",
      " 99: doing chrom : 1, at pos : 41285591 ,number : 999\n",
      "PHASE nonzero 22688\n",
      "SNPs nonzero 230056\n",
      "you have 228 south asianin your labeled set\n",
      "you have 253 east asianin your labeled set\n",
      "you have 155 mixed americanin your labeled set\n",
      "you have 210 non finish europeanin your labeled set\n",
      "you have 382 africanin your labeled set\n"
     ]
    }
   ],
   "source": [
    "pop.load_from_vcf(filename='data/final.recode.vcf', printinfo=True, maxval=1000, keep_prev=False)"
   ]
  },
  {
   "cell_type": "code",
   "execution_count": 71,
   "metadata": {
    "scrolled": true
   },
   "outputs": [
    {
     "name": "stdout",
     "output_type": "stream",
     "text": [
      "having 84 chromosomes\n",
      "meta :\n",
      "OrderedDict([('fileformat', 'VCFv4.2'), ('hailversion', ['devel-76c42fe'])])\n",
      "genomesize : \n",
      "3101804739\n",
      " 999: doing chrom : 5, at pos : 176793392 ,number : 9999\n",
      "PHASE nonzero 132673\n",
      "SNPs nonzero 2483122\n",
      "you have 228 south asianin your labeled set\n",
      "you have 253 east asianin your labeled set\n",
      "you have 155 mixed americanin your labeled set\n",
      "you have 210 non finish europeanin your labeled set\n",
      "you have 382 africanin your labeled set\n"
     ]
    }
   ],
   "source": [
    "pop.load_from_vcf(filename='data/final.recode.vcf', printinfo=True, maxval=10000, keep_prev=True)"
   ]
  },
  {
   "cell_type": "code",
   "execution_count": 72,
   "metadata": {},
   "outputs": [
    {
     "data": {
      "text/plain": [
       "(680, 11000)"
      ]
     },
     "execution_count": 72,
     "metadata": {},
     "output_type": "execute_result"
    }
   ],
   "source": [
    "pop.test_gt.shape"
   ]
  },
  {
   "cell_type": "code",
   "execution_count": 89,
   "metadata": {},
   "outputs": [],
   "source": [
    "from sklearn.decomposition import PCA\n",
    "pca = PCA(n_components=100)\n",
    "redgt = pca.fit_transform(gt)"
   ]
  },
  {
   "cell_type": "code",
   "execution_count": 90,
   "metadata": {},
   "outputs": [
    {
     "data": {
      "text/plain": [
       "(1286, 100)"
      ]
     },
     "execution_count": 90,
     "metadata": {},
     "output_type": "execute_result"
    }
   ],
   "source": [
    "redgt.shape"
   ]
  },
  {
   "cell_type": "code",
   "execution_count": 91,
   "metadata": {},
   "outputs": [],
   "source": [
    "Y = labeled['ancestry']"
   ]
  },
  {
   "cell_type": "code",
   "execution_count": 68,
   "metadata": {},
   "outputs": [],
   "source": [
    "from sklearn.model_selection import train_test_split\n",
    "X_train, X_test, y_train, y_test = train_test_split(redgt, Y, test_size=0.2)"
   ]
  },
  {
   "cell_type": "code",
   "execution_count": 64,
   "metadata": {
    "scrolled": true
   },
   "outputs": [
    {
     "data": {
      "text/plain": [
       "2       eas\n",
       "4       eas\n",
       "6       nfe\n",
       "7       nfe\n",
       "8       nfe\n",
       "9       nfe\n",
       "11      nfe\n",
       "12      nfe\n",
       "13      nfe\n",
       "15      nfe\n",
       "16      nfe\n",
       "19      nfe\n",
       "22      nfe\n",
       "24      nfe\n",
       "28      nfe\n",
       "29      nfe\n",
       "30      nfe\n",
       "33      nfe\n",
       "34      nfe\n",
       "38      nfe\n",
       "40      nfe\n",
       "42      nfe\n",
       "43      nfe\n",
       "44      nfe\n",
       "45      nfe\n",
       "46      nfe\n",
       "47      nfe\n",
       "48      nfe\n",
       "50      nfe\n",
       "51      nfe\n",
       "       ... \n",
       "1909    nfe\n",
       "1910    nfe\n",
       "1911    nfe\n",
       "1915    sas\n",
       "1916    sas\n",
       "1917    sas\n",
       "1919    sas\n",
       "1920    sas\n",
       "1922    sas\n",
       "1924    sas\n",
       "1926    sas\n",
       "1927    sas\n",
       "1928    sas\n",
       "1929    sas\n",
       "1930    sas\n",
       "1932    sas\n",
       "1934    sas\n",
       "1937    sas\n",
       "1940    sas\n",
       "1943    sas\n",
       "1946    sas\n",
       "1947    sas\n",
       "1948    sas\n",
       "1949    sas\n",
       "1950    sas\n",
       "1951    sas\n",
       "1953    sas\n",
       "1955    sas\n",
       "1959    sas\n",
       "1963    sas\n",
       "Name: ancestry, Length: 1286, dtype: object"
      ]
     },
     "execution_count": 64,
     "metadata": {},
     "output_type": "execute_result"
    }
   ],
   "source": []
  },
  {
   "cell_type": "code",
   "execution_count": 92,
   "metadata": {},
   "outputs": [],
   "source": [
    "from sklearn.model_selection import cross_val_score\n",
    "from sklearn.neighbors.nearest_centroid import NearestCentroid\n",
    "clf = NearestCentroid()"
   ]
  },
  {
   "cell_type": "code",
   "execution_count": 93,
   "metadata": {},
   "outputs": [
    {
     "data": {
      "text/plain": [
       "array([0.85150812, 0.9088785 , 0.92037471])"
      ]
     },
     "execution_count": 93,
     "metadata": {},
     "output_type": "execute_result"
    }
   ],
   "source": [
    "cross_val_score(clf, redgt, Y, scoring='accuracy',cv=3,n_jobs=1) "
   ]
  },
  {
   "cell_type": "code",
   "execution_count": 72,
   "metadata": {},
   "outputs": [
    {
     "name": "stderr",
     "output_type": "stream",
     "text": [
      "[autoreload of src failed: Traceback (most recent call last):\n",
      "  File \"/Users/jeremie/anaconda2/envs/tensorflow1/lib/python2.7/site-packages/IPython/extensions/autoreload.py\", line 247, in check\n",
      "    superreload(m, reload, self.old_objects)\n",
      "  File \"src.py\", line 186\n",
      "    elif self.rec[record.CHROM][]\n",
      "       ^\n",
      "IndentationError: expected an indented block\n",
      "]\n"
     ]
    }
   ],
   "source": [
    "from sklearn.ensemble import AdaBoostClassifier\n",
    "clf = AdaBoostClassifier(n_estimators=100)"
   ]
  },
  {
   "cell_type": "code",
   "execution_count": 73,
   "metadata": {},
   "outputs": [
    {
     "data": {
      "text/plain": [
       "array([0.49074074, 0.21671827, 0.21875   , 0.35736677])"
      ]
     },
     "execution_count": 73,
     "metadata": {},
     "output_type": "execute_result"
    }
   ],
   "source": [
    "cross_val_score(clf, redgt, Y, scoring='accuracy',cv=4,n_jobs=1) "
   ]
  },
  {
   "cell_type": "code",
   "execution_count": 37,
   "metadata": {},
   "outputs": [
    {
     "data": {
      "text/plain": [
       "array([[1, 1, 1, 1],\n",
       "       [4, 2, 2, 2],\n",
       "       [3, 3, 2, 1],\n",
       "       [4, 2, 4, 4]])"
      ]
     },
     "execution_count": 37,
     "metadata": {},
     "output_type": "execute_result"
    }
   ],
   "source": [
    "A.T"
   ]
  },
  {
   "cell_type": "code",
   "execution_count": 83,
   "metadata": {},
   "outputs": [
    {
     "name": "stdout",
     "output_type": "stream",
     "text": [
      "kernel_task\n",
      "launchd\n",
      "syslogd\n",
      "UserEventAgent\n",
      "uninstalld\n",
      "kextd\n",
      "fseventsd\n",
      "appleeventsd\n",
      "systemstats\n",
      "configd\n",
      "powerd\n",
      "logd\n",
      "warmd\n",
      "mds\n",
      "diskarbitrationd\n",
      "Installer Progre\n",
      "backupd-helper\n",
      "AGSService\n",
      "opendirectoryd\n",
      "apsd\n",
      "nbstated\n",
      "launchservicesd\n",
      "securityd\n",
      "usbmuxd\n",
      "locationd\n",
      "autofsd\n",
      "displaypolicyd\n",
      "dasd\n",
      "kdc\n",
      "loginwindow\n",
      "logind\n",
      "revisiond\n",
      "KernelEventAgent\n",
      "bluetoothd\n",
      "com.torrents-tim\n",
      "hidd\n",
      "corebrightnessd\n",
      "AirPlayXPCHelper\n",
      "taskgated\n",
      "notifyd\n",
      "distnoted\n",
      "cfprefsd\n",
      "authd\n",
      "coreservicesd\n",
      "com.apple.ctkpcs\n",
      "coreaudiod\n",
      "WindowServer\n",
      "mDNSResponder\n",
      "mDNSResponderHel\n",
      "awacsd\n",
      "airportd\n",
      "apfsd\n",
      "signpost_notific\n",
      "sysmond\n",
      "systemstats\n",
      "symptomsd\n",
      "AppleCameraAssis\n",
      "lsd\n",
      "syspolicyd\n",
      "watchdogd\n",
      "thermald\n",
      "mds_stores\n",
      "CVMServer\n",
      "sharedfilelistd\n",
      "fontd\n",
      "securityd_servic\n",
      "com.apple.Ambien\n",
      "cfprefsd\n",
      "distnoted\n",
      "trustd\n",
      "com.apple.speech\n",
      "UserEventAgent\n",
      "lsd\n",
      "languageassetd\n",
      "identityservicesd\n",
      "imagent\n",
      "wirelessproxd\n",
      "rapportd\n",
      "usernoted\n",
      "CrashReporterSup\n",
      "NotificationCenter\n",
      "sharingd\n",
      "WiFiAgent\n",
      "useractivityd\n",
      "mediaremoteagent\n",
      "cupsd\n",
      "sharedfilelistd\n",
      "SubmitDiagInfo\n",
      "filecoordination\n",
      "pboard\n",
      "fontd\n",
      "pkd\n",
      "storeaccountd\n",
      "commerce\n",
      "diskmanagementd\n",
      "deleted\n",
      "passd\n",
      "diagnostics_agent\n",
      "storedownloadd\n",
      "imklaunchagent\n",
      "PAH_Extension\n",
      "contactsdonationagent\n",
      "IMRemoteURLConnectionAgent\n",
      "IMRemoteURLConnectionAgent\n",
      "mdworker\n",
      "mdworker\n",
      "racoon\n",
      "corespotlightd\n",
      "mdwrite\n",
      "eapolclient\n",
      "netbiosd\n",
      "distnoted\n",
      "Activity Monitor\n",
      "Elite Keylogger\n",
      "Dock\n",
      "SystemUIServer\n",
      "storeassetd\n",
      "com.apple.dock.extra\n",
      "storeuid\n",
      "WiFiProxy\n",
      "ssh-agent\n",
      "fileproviderd\n",
      "Google Chrome Helper\n",
      "SocialPushAgent\n",
      "Siri\n",
      "icdd\n",
      "sh\n",
      "AirPlayUIAgent\n",
      "cloudpaird\n",
      "MobizenPluginForMac\n",
      "nbagent\n",
      "WunderlistHelper\n",
      "vncagent\n",
      "backgroundtaskmanagementagent\n",
      "NIHardwareAgent\n",
      "iTunesHelper\n",
      "Flux\n",
      "MIDIServer\n",
      "SpeechSynthesisServer\n",
      "remoting_me2me_host\n",
      "adb\n",
      "AdobeIPCBroker\n",
      "storelegacy\n",
      "Core Sync\n",
      "AdobeCRDaemon\n",
      "lsd\n",
      "LaterAgent\n",
      "com.apple.speech.speechsynthesisd\n",
      "storeinstalld\n",
      "fpsd\n",
      "powerlogd\n",
      "Preview\n",
      "FinderSyncAPIExtension\n",
      "SSMenuAgent\n",
      "universalAccessAuthWarn\n",
      "com.apple.appkit.xpc.openAndSavePanelService\n",
      "ACCFinderSync\n",
      "FinderSyncAPIExtension\n",
      "ssh\n",
      "Sublime Text\n",
      "plugin_host\n",
      "avconferenced\n",
      "IMRemoteURLConnectionAgent\n",
      "nsurlstoraged\n",
      "trustd\n",
      "CommCenter\n",
      "com.apple.Perfor\n",
      "nsurlsessiond\n",
      "Python\n",
      "mdworker\n",
      "mdworker\n",
      "Google Chrome\n",
      "crashpad_handler\n",
      "Google Chrome Helper\n",
      "AlertNotificationService\n",
      "Google Chrome Helper\n",
      "Google Chrome Helper\n",
      "Google Chrome Helper\n",
      "Google Chrome Helper\n",
      "Google Chrome Helper\n",
      "Google Chrome Helper\n",
      "Google Chrome Helper\n",
      "Google Chrome Helper\n",
      "Google Chrome Helper\n",
      "Google Chrome Helper\n",
      "Google Chrome Helper\n",
      "Google Chrome Helper\n",
      "Google Chrome Helper\n",
      "Google Chrome Helper\n",
      "Google Chrome Helper\n",
      "Google Chrome Helper\n",
      "Google Chrome Helper\n",
      "Google Chrome Helper\n",
      "Google Chrome Helper\n",
      "Google Chrome Helper\n",
      "Google Chrome Helper\n",
      "Google Chrome Helper\n",
      "Google Chrome Helper\n",
      "Google Chrome Helper\n",
      "Google Chrome Helper\n",
      "Google Chrome Helper\n",
      "Google Chrome Helper\n",
      "Google Chrome Helper\n",
      "Google Chrome Helper\n",
      "Google Chrome Helper\n",
      "Google Chrome Helper\n",
      "Google Chrome Helper\n",
      "Google Chrome Helper\n",
      "Google Chrome Helper\n",
      "Google Chrome Helper\n",
      "Google Chrome Helper\n",
      "Google Chrome Helper\n",
      "Google Chrome Helper\n",
      "Google Chrome Helper\n",
      "Google Chrome Helper\n",
      "Google Chrome Helper\n",
      "Google Chrome Helper\n",
      "Google Chrome Helper\n",
      "Google Chrome Helper\n",
      "Google Chrome Helper\n",
      "Google Chrome Helper\n",
      "Google Chrome Helper\n",
      "Google Chrome Helper\n",
      "Google Chrome Helper\n",
      "Google Chrome Helper\n",
      "Google Chrome Helper\n",
      "Google Chrome Helper\n",
      "Google Chrome Helper\n",
      "Google Chrome Helper\n",
      "cloudd\n",
      "tccd\n",
      "WirelessRadioMan\n",
      "Google Chrome Helper\n",
      "Google Chrome Helper\n",
      "Google Chrome Helper\n",
      "Google Chrome Helper\n",
      "Google Chrome Helper\n",
      "Google Chrome Helper\n",
      "Google Chrome Helper\n",
      "USBAgent\n",
      "nsurlsessiond\n",
      "assistantd\n",
      "awdd\n",
      "ContactsAccountsService\n",
      "cfprefsd\n",
      "cfprefsd\n",
      "mdworker\n",
      "secd\n",
      "cdpd\n",
      "routined\n",
      "analyticsd\n",
      "coreduetd\n",
      "CalendarAgent\n",
      "secinitd\n",
      "CalNCService\n",
      "timed\n",
      "keybagd\n",
      "soagent\n",
      "ContactsAgent\n",
      "akd\n",
      "Keychain Circle Notification\n",
      "com.apple.CodeSi\n",
      "adid\n",
      "mediaremoted\n",
      "ocspd\n",
      "mdworker\n",
      "iconservicesagent\n",
      "iconservicesd\n",
      "gamecontrollerd\n",
      "OSDUIHelper\n",
      "systemsoundserve\n",
      "AudioComponentRe\n",
      "mdworker\n",
      "distnoted\n",
      "com.apple.hiservices-xpcservice\n",
      "pbs\n",
      "AppleSpell\n",
      "keyboardservicesd\n",
      "mobileassetd\n",
      "com.apple.geod\n",
      "spindump\n",
      "spindump_agent\n",
      "photoanalysisd\n",
      "com.apple.CloudPhotosConfiguration\n",
      "printtool\n",
      "ScopedBookmarkAgent\n",
      "AssetCache\n",
      "system_installd\n",
      "installd\n",
      "coresymbolicatio\n",
      "com.apple.quicklook.ThumbnailsAgent\n",
      "aslmanager\n",
      "nsurlstoraged\n",
      "sysdiagnose\n",
      "com.apple.MediaLibraryService\n",
      "AssetCacheLocatorService\n",
      "com.apple.CloudDocs.MobileDocumentsFileProvider\n",
      "amfid\n",
      "AudioComponentRegistrar\n",
      "callservicesd\n",
      "media-indexer\n",
      "com.apple.iTunesLibraryService\n",
      "com.apple.audio.SandboxHelper\n",
      "assistant_service\n",
      "IMRemoteURLConnectionAgent\n",
      "networkserviceproxy\n",
      "Google Chrome Helper\n",
      "Google Chrome Helper\n",
      "nehelper\n",
      "Google Chrome Helper\n",
      "Google Chrome Helper\n",
      "sandboxd\n",
      "com.apple.notificationcenterui.WeatherSummary\n",
      "com.apple.WeatherKitService\n",
      "ContainerMetadataExtractor\n",
      "CoreLocationAgent\n",
      "ReportCrash\n",
      "python2.7\n",
      "QuickLookUIService\n",
      "trustd\n",
      "trustd\n",
      "man\n",
      "sh\n",
      "sh\n",
      "sh\n",
      "less\n",
      "CoreServicesUIAgent\n",
      "WhatsApp\n",
      "crashpad_handler\n",
      "WhatsApp Helper\n",
      "WhatsApp Helper\n",
      "KeyboardServicesHelper\n",
      "parsecd\n",
      "videosubscriptionsd\n",
      "com.apple.Safari.History\n",
      "com.apple.CommerceKit.TransactionService\n",
      "Grab\n",
      "Google Chrome Helper\n",
      "DiskUnmountWatcher\n",
      "IMAutomaticHistoryDeletionAgent\n",
      "helpd\n",
      "Google Chrome Helper\n",
      "CFNetworkAgent\n",
      "com.apple.iCloudHelper\n",
      "Google Chrome Helper\n",
      "quicklookd\n",
      "iTerm2\n",
      "iTerm2\n",
      "login\n",
      "bash\n",
      "iTerm2\n",
      "login\n",
      "bash\n",
      "hdiejectd\n",
      "diskimages-helpe\n",
      "Wunderlist\n",
      "Finder\n",
      "ACCFinderSync\n",
      "Spotlight\n",
      "diskimages-helpe\n",
      "DTServiceHub\n",
      "watchman\n",
      "ViewBridgeAuxiliary\n",
      "SafariBookmarksSyncAgent\n",
      "FinderSyncAPIExtension\n",
      "System Preferences\n",
      "com.apple.preference.network.remoteservice\n",
      "suggestd\n",
      "ProtectedCloudKeySyncing\n",
      "iTerm2\n",
      "login\n",
      "bash\n",
      "diskspaced\n",
      "python2.7\n",
      "bird\n",
      "iTerm2\n",
      "login\n",
      "bash\n",
      "accountsd\n",
      "cloudphotosd\n",
      "photolibraryd\n",
      "com.apple.photomoments\n"
     ]
    }
   ],
   "source": [
    "import psutil\n",
    "for p in psutil.process_iter():\n",
    "    try:\n",
    "        print p.name()\n",
    "    except (psutil.AccessDenied, psutil.ZombieProcess):\n",
    "        pass\n",
    "    except psutil.NoSuchProcess:\n",
    "        continue"
   ]
  },
  {
   "cell_type": "code",
   "execution_count": 96,
   "metadata": {},
   "outputs": [
    {
     "data": {
      "text/plain": [
       "array([[ 0.,  1.,  2.,  3.],\n",
       "       [ 4.,  5.,  6.,  7.],\n",
       "       [ 8.,  9., 10., 11.],\n",
       "       [12., 13., 14., 15.]])"
      ]
     },
     "execution_count": 96,
     "metadata": {},
     "output_type": "execute_result"
    }
   ],
   "source": [
    " x = np.arange(16.0).reshape(4, 4)\n",
    "x"
   ]
  },
  {
   "cell_type": "code",
   "execution_count": 106,
   "metadata": {},
   "outputs": [
    {
     "data": {
      "text/plain": [
       "[array([[ 0.,  1.,  2.,  3.],\n",
       "        [ 4.,  5.,  6.,  7.],\n",
       "        [ 8.,  9., 10., 11.]]),\n",
       " array([], shape=(0, 4), dtype=float64),\n",
       " array([[ 8.,  9., 10., 11.],\n",
       "        [12., 13., 14., 15.]])]"
      ]
     },
     "execution_count": 106,
     "metadata": {},
     "output_type": "execute_result"
    }
   ],
   "source": [
    "np.vsplit(x, np.array((3,2)))"
   ]
  },
  {
   "cell_type": "code",
   "execution_count": 120,
   "metadata": {},
   "outputs": [
    {
     "data": {
      "text/plain": [
       "210"
      ]
     },
     "execution_count": 120,
     "metadata": {},
     "output_type": "execute_result"
    }
   ],
   "source": [
    "labeled.loc[labeled['ancestry'] == 'nfe'].shape[0]"
   ]
  },
  {
   "cell_type": "code",
   "execution_count": 129,
   "metadata": {},
   "outputs": [
    {
     "data": {
      "text/plain": [
       "'nfe'"
      ]
     },
     "execution_count": 129,
     "metadata": {},
     "output_type": "execute_result"
    }
   ],
   "source": [
    "list(labeled.loc[labeled['sample_id'] == 'MacArthurLab_9']['ancestry'])[0]"
   ]
  },
  {
   "cell_type": "code",
   "execution_count": 22,
   "metadata": {},
   "outputs": [],
   "source": [
    "import numpy as np\n",
    "a = range(30)"
   ]
  },
  {
   "cell_type": "code",
   "execution_count": 23,
   "metadata": {},
   "outputs": [],
   "source": [
    "b = range(30)"
   ]
  },
  {
   "cell_type": "code",
   "execution_count": 35,
   "metadata": {},
   "outputs": [],
   "source": [
    "a = np.vstack((a,a))"
   ]
  },
  {
   "cell_type": "code",
   "execution_count": 36,
   "metadata": {},
   "outputs": [
    {
     "data": {
      "text/plain": [
       "array([[ 0,  1,  2,  3,  4,  5,  6,  7,  8,  9, 10, 11, 12, 13, 14, 15,\n",
       "        16, 17, 18, 19, 20, 21, 22, 23, 24, 25, 26, 27, 28, 29],\n",
       "       [ 0,  1,  2,  3,  4,  5,  6,  7,  8,  9, 10, 11, 12, 13, 14, 15,\n",
       "        16, 17, 18, 19, 20, 21, 22, 23, 24, 25, 26, 27, 28, 29],\n",
       "       [ 0,  1,  2,  3,  4,  5,  6,  7,  8,  9, 10, 11, 12, 13, 14, 15,\n",
       "        16, 17, 18, 19, 20, 21, 22, 23, 24, 25, 26, 27, 28, 29],\n",
       "       [ 0,  1,  2,  3,  4,  5,  6,  7,  8,  9, 10, 11, 12, 13, 14, 15,\n",
       "        16, 17, 18, 19, 20, 21, 22, 23, 24, 25, 26, 27, 28, 29],\n",
       "       [ 0,  1,  2,  3,  4,  5,  6,  7,  8,  9, 10, 11, 12, 13, 14, 15,\n",
       "        16, 17, 18, 19, 20, 21, 22, 23, 24, 25, 26, 27, 28, 29],\n",
       "       [ 0,  1,  2,  3,  4,  5,  6,  7,  8,  9, 10, 11, 12, 13, 14, 15,\n",
       "        16, 17, 18, 19, 20, 21, 22, 23, 24, 25, 26, 27, 28, 29],\n",
       "       [ 0,  1,  2,  3,  4,  5,  6,  7,  8,  9, 10, 11, 12, 13, 14, 15,\n",
       "        16, 17, 18, 19, 20, 21, 22, 23, 24, 25, 26, 27, 28, 29],\n",
       "       [ 0,  1,  2,  3,  4,  5,  6,  7,  8,  9, 10, 11, 12, 13, 14, 15,\n",
       "        16, 17, 18, 19, 20, 21, 22, 23, 24, 25, 26, 27, 28, 29],\n",
       "       [ 0,  1,  2,  3,  4,  5,  6,  7,  8,  9, 10, 11, 12, 13, 14, 15,\n",
       "        16, 17, 18, 19, 20, 21, 22, 23, 24, 25, 26, 27, 28, 29],\n",
       "       [ 0,  1,  2,  3,  4,  5,  6,  7,  8,  9, 10, 11, 12, 13, 14, 15,\n",
       "        16, 17, 18, 19, 20, 21, 22, 23, 24, 25, 26, 27, 28, 29],\n",
       "       [ 0,  1,  2,  3,  4,  5,  6,  7,  8,  9, 10, 11, 12, 13, 14, 15,\n",
       "        16, 17, 18, 19, 20, 21, 22, 23, 24, 25, 26, 27, 28, 29],\n",
       "       [ 0,  1,  2,  3,  4,  5,  6,  7,  8,  9, 10, 11, 12, 13, 14, 15,\n",
       "        16, 17, 18, 19, 20, 21, 22, 23, 24, 25, 26, 27, 28, 29]])"
      ]
     },
     "execution_count": 36,
     "metadata": {},
     "output_type": "execute_result"
    }
   ],
   "source": [
    "a"
   ]
  },
  {
   "cell_type": "code",
   "execution_count": null,
   "metadata": {},
   "outputs": [],
   "source": []
  }
 ],
 "metadata": {
  "kernelspec": {
   "display_name": "Python 2",
   "language": "python",
   "name": "python2"
  },
  "language_info": {
   "codemirror_mode": {
    "name": "ipython",
    "version": 2
   },
   "file_extension": ".py",
   "mimetype": "text/x-python",
   "name": "python",
   "nbconvert_exporter": "python",
   "pygments_lexer": "ipython2",
   "version": "2.7.14"
  }
 },
 "nbformat": 4,
 "nbformat_minor": 2
}
